{
 "cells": [
  {
   "cell_type": "code",
   "execution_count": null,
   "metadata": {
    "collapsed": true
   },
   "outputs": [],
   "source": [
    "from deap import base, creator, gp\n",
    "\n",
    "pset = gp.PrimitiveSet(\"MAIN\", 1)\n",
    "pset.addPrimitive(operator.add, 2)\n",
    "pset.addPrimitive(operator.sub, 2)\n",
    "pset.addPrimitive(operator.mul, 2)\n",
    "pset.renameArguments(ARG0='x')\n",
    "\n",
    "creator.create(\"Individual\", gp.PrimitiveTree)\n",
    "\n",
    "toolbox = base.Toolbox()\n",
    "toolbox.register(\"expr\", gp.genHalfAndHalf, pset=pset, min_=1, max_=2)\n",
    "toolbox.register(\"individual\", tools.initIterate, creator.Individual, toolbox.expr)\n",
    "\n",
    "expr = toolbox.individual()\n",
    "nodes, edges, labels = gp.graph(expr)\n",
    "\n",
    "### Graphviz Section ###\n",
    "import pygraphviz as pgv\n",
    "\n",
    "g = pgv.AGraph()\n",
    "g.add_nodes_from(nodes)\n",
    "g.add_edges_from(edges)\n",
    "g.layout(prog=\"dot\")\n",
    "\n",
    "for i in nodes:\n",
    "    n = g.get_node(i)\n",
    "    n.attr[\"label\"] = labels[i]\n",
    "\n",
    "g.draw(\"tree.pdf\")"
   ]
  },
  {
   "cell_type": "code",
   "execution_count": 1,
   "metadata": {
    "collapsed": true
   },
   "outputs": [],
   "source": [
    "import sys\n",
    "sys.path.append('/home/cfusting/Dropbox/arctic-browning')\n",
    "sys.path.append('/home/cfusting/gp_mecl')"
   ]
  },
  {
   "cell_type": "code",
   "execution_count": 2,
   "metadata": {
    "collapsed": true
   },
   "outputs": [],
   "source": [
    "import importlib\n",
    "EXPERMINENT_NAME = \"penguin\"\n",
    "experiment = importlib.import_module(\"experiments.\" + EXPERMINENT_NAME)"
   ]
  },
  {
   "cell_type": "code",
   "execution_count": 6,
   "metadata": {
    "collapsed": false
   },
   "outputs": [],
   "source": [
    "from utilities import lib\n",
    "TRAINING = \"/home/cfusting/design_matrices/training_matrix.hdf\"\n",
    "predictors, response = lib.get_predictors_and_response(TRAINING)\n",
    "lst_days, snow_days = lib.get_lst_and_snow_days(TRAINING)\n",
    "pset = experiment.get_pset(predictors.shape[1], lst_days, snow_days)"
   ]
  },
  {
   "cell_type": "code",
   "execution_count": 13,
   "metadata": {
    "collapsed": false
   },
   "outputs": [],
   "source": [
    "import cachetools\n",
    "from deap import creator, base\n",
    "from gp.algorithms import afpo\n",
    "creator.create(\"ErrorSizeComplexity\", base.Fitness, weights=(-1.0, -1.0, -1.0))\n",
    "validate_toolbox = experiment.get_validation_toolbox(predictors, response, pset,\n",
    "                                                     size_measure=afpo.evaluate_fitness_size_complexity,\n",
    "                                                     expression_dict=cachetools.LRUCache(maxsize=100),\n",
    "                                                     fitness_class=creator.ErrorSizeComplexity)"
   ]
  },
  {
   "cell_type": "code",
   "execution_count": 36,
   "metadata": {
    "collapsed": false
   },
   "outputs": [
    {
     "name": "stdout",
     "output_type": "stream",
     "text": [
      "/home/cfusting/symbolic_results/pareto_afsc_po_penguin_17166.log\n",
      "/home/cfusting/symbolic_results/pareto_afsc_po_penguin_17785.log\n",
      "/home/cfusting/symbolic_results/pareto_afsc_po_penguin_246.log\n",
      "/home/cfusting/symbolic_results/pareto_afsc_po_penguin_25960.log\n",
      "/home/cfusting/symbolic_results/pareto_afsc_po_penguin_26777.log\n",
      "/home/cfusting/symbolic_results/pareto_afsc_po_penguin_29676.log\n",
      "/home/cfusting/symbolic_results/pareto_afsc_po_penguin_423.log\n",
      "/home/cfusting/symbolic_results/pareto_afsc_po_penguin_8761.log\n"
     ]
    }
   ],
   "source": [
    "import glob\n",
    "RESULTS_PATH = \"/home/cfusting/symbolic_results\"\n",
    "SEEDS = ['17166', '17785', '246', '25960', '26777', '29676', '423', '8761']\n",
    "from ndvi import gp_processing_tools\n",
    "pareto_files = glob.glob(RESULTS_PATH + \"/pareto_*_po_{}_*.log\".format(EXPERMINENT_NAME))\n",
    "filtered_files = []\n",
    "for s in SEEDS:\n",
    "    filtered_files.extend([x for x in pareto_files if s in x])\n",
    "all_inds = dict()\n",
    "for f in filtered_files:\n",
    "    last_front = gp_processing_tools.get_last_pareto_front(f)\n",
    "    all_inds[f] = []\n",
    "    for ind_tuple in last_front:\n",
    "        tree_string = ind_tuple[1]\n",
    "        pareto_ind = creator.Individual.from_string(tree_string, pset)\n",
    "        pareto_ind = creator.Individual(pareto_ind)\n",
    "        all_inds[f].append(pareto_ind)"
   ]
  },
  {
   "cell_type": "code",
   "execution_count": 35,
   "metadata": {
    "collapsed": false
   },
   "outputs": [
    {
     "ename": "IndexError",
     "evalue": "list index out of range",
     "output_type": "error",
     "traceback": [
      "\u001b[0;31m---------------------------------------------------------------------------\u001b[0m",
      "\u001b[0;31mIndexError\u001b[0m                                Traceback (most recent call last)",
      "\u001b[0;32m<ipython-input-35-d62d3073d5d9>\u001b[0m in \u001b[0;36m<module>\u001b[0;34m()\u001b[0m\n\u001b[1;32m     11\u001b[0m         \u001b[0mn\u001b[0m \u001b[0;34m=\u001b[0m \u001b[0mg\u001b[0m\u001b[0;34m.\u001b[0m\u001b[0mget_node\u001b[0m\u001b[0;34m(\u001b[0m\u001b[0mi\u001b[0m\u001b[0;34m)\u001b[0m\u001b[0;34m\u001b[0m\u001b[0m\n\u001b[1;32m     12\u001b[0m         \u001b[0mn\u001b[0m\u001b[0;34m.\u001b[0m\u001b[0mattr\u001b[0m\u001b[0;34m[\u001b[0m\u001b[0;34m\"label\"\u001b[0m\u001b[0;34m]\u001b[0m \u001b[0;34m=\u001b[0m \u001b[0mlabels\u001b[0m\u001b[0;34m[\u001b[0m\u001b[0mi\u001b[0m\u001b[0;34m]\u001b[0m\u001b[0;34m\u001b[0m\u001b[0m\n\u001b[0;32m---> 13\u001b[0;31m     \u001b[0mg\u001b[0m\u001b[0;34m.\u001b[0m\u001b[0mdraw\u001b[0m\u001b[0;34m(\u001b[0m\u001b[0;34m\"trees/\"\u001b[0m \u001b[0;34m+\u001b[0m \u001b[0mSEEDS\u001b[0m\u001b[0;34m[\u001b[0m\u001b[0mi\u001b[0m\u001b[0;34m]\u001b[0m \u001b[0;34m+\u001b[0m \u001b[0;34m\".eps\"\u001b[0m\u001b[0;34m)\u001b[0m\u001b[0;34m\u001b[0m\u001b[0m\n\u001b[0m\u001b[1;32m     14\u001b[0m     \u001b[0mi\u001b[0m \u001b[0;34m+=\u001b[0m \u001b[0;36m1\u001b[0m\u001b[0;34m\u001b[0m\u001b[0m\n",
      "\u001b[0;31mIndexError\u001b[0m: list index out of range"
     ]
    }
   ],
   "source": [
    "from deap import gp\n",
    "import pygraphviz as pgv\n",
    "i = 0\n",
    "for key in all_inds.keys():\n",
    "    for ind in all_inds[key]\n",
    "        nodes, edges, labels = gp.graph(ind)\n",
    "        g = pgv.AGraph()\n",
    "        g.add_nodes_from(nodes)\n",
    "        g.add_edges_from(edges)\n",
    "        g.layout(prog=\"dot\")\n",
    "        for i in nodes:\n",
    "            n = g.get_node(i)\n",
    "            n.attr[\"label\"] = labels[i]\n",
    "        g.draw(\"trees/\" + key + \"_\" + i + \".eps\")\n",
    "        i += 1"
   ]
  }
 ],
 "metadata": {
  "hide_input": false,
  "kernelspec": {
   "display_name": "Python 2",
   "language": "python",
   "name": "python2"
  },
  "language_info": {
   "codemirror_mode": {
    "name": "ipython",
    "version": 2
   },
   "file_extension": ".py",
   "mimetype": "text/x-python",
   "name": "python",
   "nbconvert_exporter": "python",
   "pygments_lexer": "ipython2",
   "version": "2.7.13"
  }
 },
 "nbformat": 4,
 "nbformat_minor": 2
}
