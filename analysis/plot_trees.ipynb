{
 "cells": [
  {
   "cell_type": "code",
   "execution_count": 1,
   "metadata": {
    "collapsed": true
   },
   "outputs": [],
   "source": [
    "import sys\n",
    "sys.path.append('/home/cfusting/Dropbox/arctic-browning')\n",
    "sys.path.append('/home/cfusting/gp_mecl')"
   ]
  },
  {
   "cell_type": "code",
   "execution_count": 2,
   "metadata": {
    "collapsed": true
   },
   "outputs": [],
   "source": [
    "import importlib\n",
    "EXPERMINENT_NAME = \"penguin\"\n",
    "experiment = importlib.import_module(\"experiments.\" + EXPERMINENT_NAME)"
   ]
  },
  {
   "cell_type": "code",
   "execution_count": 3,
   "metadata": {
    "collapsed": false
   },
   "outputs": [],
   "source": [
    "from utilities import lib\n",
    "TRAINING = \"/home/cfusting/design_matrices/training_matrix.hdf\"\n",
    "predictors, response = lib.get_predictors_and_response(TRAINING)\n",
    "lst_days, snow_days = lib.get_lst_and_snow_days(TRAINING)\n",
    "pset = experiment.get_pset(predictors.shape[1], lst_days, snow_days)"
   ]
  },
  {
   "cell_type": "code",
   "execution_count": 4,
   "metadata": {
    "collapsed": false
   },
   "outputs": [],
   "source": [
    "import cachetools\n",
    "from deap import creator, base\n",
    "from gp.algorithms import afpo\n",
    "creator.create(\"ErrorSizeComplexity\", base.Fitness, weights=(-1.0, -1.0, -1.0))\n",
    "validate_toolbox = experiment.get_validation_toolbox(predictors, response, pset,\n",
    "                                                     size_measure=afpo.evaluate_fitness_size_complexity,\n",
    "                                                     expression_dict=cachetools.LRUCache(maxsize=100),\n",
    "                                                     fitness_class=creator.ErrorSizeComplexity)"
   ]
  },
  {
   "cell_type": "code",
   "execution_count": 5,
   "metadata": {
    "collapsed": false
   },
   "outputs": [
    {
     "name": "stdout",
     "output_type": "stream",
     "text": [
      "/home/cfusting/symbolic_results/pareto_afsc_po_penguin_17166.log\n",
      "/home/cfusting/symbolic_results/pareto_afsc_po_penguin_17785.log\n",
      "/home/cfusting/symbolic_results/pareto_afsc_po_penguin_246.log\n",
      "/home/cfusting/symbolic_results/pareto_afsc_po_penguin_25960.log\n",
      "/home/cfusting/symbolic_results/pareto_afsc_po_penguin_26777.log\n",
      "/home/cfusting/symbolic_results/pareto_afsc_po_penguin_29676.log\n",
      "/home/cfusting/symbolic_results/pareto_afsc_po_penguin_423.log\n",
      "/home/cfusting/symbolic_results/pareto_afsc_po_penguin_8761.log\n"
     ]
    },
    {
     "name": "stderr",
     "output_type": "stream",
     "text": [
      "/home/cfusting/anaconda2/lib/python2.7/site-packages/sklearn/cross_validation.py:44: DeprecationWarning: This module was deprecated in version 0.18 in favor of the model_selection module into which all the refactored classes and functions are moved. Also note that the interface of the new CV iterators are different from that of this module. This module will be removed in 0.20.\n",
      "  \"This module will be removed in 0.20.\", DeprecationWarning)\n"
     ]
    }
   ],
   "source": [
    "import glob\n",
    "RESULTS_PATH = \"/home/cfusting/symbolic_results\"\n",
    "SEEDS = ['17166', '17785', '246', '25960', '26777', '29676', '423', '8761']\n",
    "from ndvi import gp_processing_tools\n",
    "pareto_files = glob.glob(RESULTS_PATH + \"/pareto_*_po_{}_*.log\".format(EXPERMINENT_NAME))\n",
    "filtered_files = []\n",
    "for s in SEEDS:\n",
    "    filtered_files.extend([x for x in pareto_files if s in x])\n",
    "all_inds = dict()\n",
    "for f in filtered_files:\n",
    "    last_front = gp_processing_tools.get_last_pareto_front(f)\n",
    "    all_inds[f] = []\n",
    "    for ind_tuple in last_front:\n",
    "        tree_string = ind_tuple[1]\n",
    "        pareto_ind = creator.Individual.from_string(tree_string, pset)\n",
    "        pareto_ind = creator.Individual(pareto_ind)\n",
    "        all_inds[f].append(pareto_ind)"
   ]
  },
  {
   "cell_type": "code",
   "execution_count": 42,
   "metadata": {
    "collapsed": false
   },
   "outputs": [],
   "source": [
    "a = all_inds.keys()[0]"
   ]
  },
  {
   "cell_type": "code",
   "execution_count": 43,
   "metadata": {
    "collapsed": false
   },
   "outputs": [
    {
     "data": {
      "text/plain": [
       "[[<deap.gp.Primitive at 0x7fc2f67e1e68>,\n",
       "  <deap.gp.Primitive at 0x7fc2f67e1f70>,\n",
       "  <deap.gp.Primitive at 0x7fc2f67e1e68>,\n",
       "  <deap.gp.Terminal at 0x7fc2f67ffa50>,\n",
       "  <deap.gp.Terminal at 0x7fc2f67ff9b0>,\n",
       "  <deap.gp.Primitive at 0x7fc2fd4b8050>,\n",
       "  <deap.gp.Terminal at 0x7fc2e5550140>,\n",
       "  <deap.gp.Primitive at 0x7fc2f67e1f18>,\n",
       "  <deap.gp.Terminal at 0x7fc2fd4c6730>],\n",
       " [<deap.gp.Primitive at 0x7fc2f67e1e68>,\n",
       "  <deap.gp.Primitive at 0x7fc2f67e1f70>,\n",
       "  <deap.gp.Primitive at 0x7fc2f67e1e68>,\n",
       "  <deap.gp.Terminal at 0x7fc2f67ff9b0>,\n",
       "  <deap.gp.Terminal at 0x7fc2f67ffa50>,\n",
       "  <deap.gp.Terminal at 0x7fc2e5550690>,\n",
       "  <deap.gp.Primitive at 0x7fc2f67e1f18>,\n",
       "  <deap.gp.Terminal at 0x7fc2fd4c6730>],\n",
       " [<deap.gp.Primitive at 0x7fc2f67e1e68>,\n",
       "  <deap.gp.Terminal at 0x7fc2f67ff9b0>,\n",
       "  <deap.gp.Terminal at 0x7fc2f67ffa50>],\n",
       " [<gp.parametrized.simple_parametrized_terminals.RangeOperationTerminal at 0x7fc2e572b170>],\n",
       " [<deap.gp.Primitive at 0x7fc2f67e1f18>,\n",
       "  <deap.gp.Primitive at 0x7fc2f67e1f18>,\n",
       "  <deap.gp.Primitive at 0x7fc2f67e1fc8>,\n",
       "  <deap.gp.Terminal at 0x7fc2e55506e0>],\n",
       " [<deap.gp.Primitive at 0x7fc2fd4b8050>,\n",
       "  <deap.gp.Primitive at 0x7fc2fd4b8050>,\n",
       "  <deap.gp.Terminal at 0x7fc2e5550730>],\n",
       " [<deap.gp.Primitive at 0x7fc2f67e1f18>, <deap.gp.Terminal at 0x7fc2e5550780>],\n",
       " [<deap.gp.Terminal at 0x7fc2e55507d0>]]"
      ]
     },
     "execution_count": 43,
     "metadata": {},
     "output_type": "execute_result"
    }
   ],
   "source": [
    "all_inds[a]"
   ]
  },
  {
   "cell_type": "code",
   "execution_count": 10,
   "metadata": {
    "collapsed": false
   },
   "outputs": [],
   "source": [
    "from gp.parametrized import simple_parametrized_terminals as sp\n",
    "import pygraphviz as pgv\n",
    "i = 0\n",
    "for key in all_inds.keys():\n",
    "    for ind in all_inds[key]:\n",
    "        nodes, edges, labels = sp.graph(ind)\n",
    "        g = pgv.AGraph()\n",
    "        g.add_nodes_from(nodes)\n",
    "        g.add_edges_from(edges)\n",
    "        g.layout(prog=\"dot\")\n",
    "        for i in nodes:\n",
    "            n = g.get_node(i)\n",
    "            n.attr[\"label\"] = labels[i]\n",
    "        g.draw(key + \"_tree_\" + str(i) + \".eps\")\n",
    "        i += 1"
   ]
  }
 ],
 "metadata": {
  "hide_input": false,
  "kernelspec": {
   "display_name": "Python 2",
   "language": "python",
   "name": "python2"
  },
  "language_info": {
   "codemirror_mode": {
    "name": "ipython",
    "version": 2
   },
   "file_extension": ".py",
   "mimetype": "text/x-python",
   "name": "python",
   "nbconvert_exporter": "python",
   "pygments_lexer": "ipython2",
   "version": "2.7.13"
  }
 },
 "nbformat": 4,
 "nbformat_minor": 2
}
